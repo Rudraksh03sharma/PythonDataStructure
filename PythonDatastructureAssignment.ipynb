{
  "nbformat": 4,
  "nbformat_minor": 0,
  "metadata": {
    "colab": {
      "provenance": []
    },
    "kernelspec": {
      "name": "python3",
      "display_name": "Python 3"
    },
    "language_info": {
      "name": "python"
    }
  },
  "cells": [
    {
      "cell_type": "markdown",
      "source": [
        "#**Q1->What are data structures, and why are they important?**\n",
        "#**Ans->**\n",
        "\n",
        "Data structures are specialized formats for organizing, processing, and storing data in a computer so that it can be accessed and modified efficiently. They provide a systematic way of managing large amounts of data for use in algorithms and applications. Here’s a closer look at what data structures are and why they are important:\n",
        "\n",
        "---\n",
        "\n",
        "### What Are Data Structures?\n",
        "\n",
        "- **Organization of Data:**  \n",
        "  Data structures define the layout of data in memory. For instance, an *array* stores elements in contiguous memory locations, while a *linked list* stores elements that are connected via pointers.\n",
        "\n",
        "- **Types of Data Structures:**  \n",
        "  There are many types of data structures, each designed for specific types of operations. Common examples include:\n",
        "  - **Arrays:** Allow fast random access using an index.\n",
        "  - **Linked Lists:** Efficient for insertions and deletions at various points.\n",
        "  - **Stacks and Queues:** Useful for order-specific data management (LIFO and FIFO, respectively).\n",
        "  - **Trees (e.g., Binary Trees, Binary Search Trees):** Organize data hierarchically, which is helpful for sorted data and fast lookup.\n",
        "  - **Graphs:** Represent complex relationships between data elements (e.g., social networks, transportation networks).\n",
        "  - **Hash Tables:** Provide near-constant-time complexity for search, insertion, and deletion operations under ideal conditions.\n",
        "\n",
        "- **Operations Supported:**  \n",
        "  Data structures are designed to support various operations such as:\n",
        "  - **Insertion and Deletion:** Adding or removing data.\n",
        "  - **Searching:** Finding specific data elements.\n",
        "  - **Traversal:** Accessing each element in a systematic way.\n",
        "  - **Sorting:** Arranging data in a particular order.\n",
        "\n",
        "---\n",
        "\n",
        "### Why Are Data Structures Important?\n",
        "\n",
        "- **Efficiency and Performance:**  \n",
        "  The choice of data structure directly influences the efficiency of an algorithm. For example, searching for an element in an unsorted array might take linear time, whereas using a binary search tree or a hash table can reduce the time significantly. Efficient data handling can make the difference between an application that runs smoothly and one that is too slow for practical use.\n",
        "\n",
        "- **Memory Management:**  \n",
        "  Data structures help manage the way data is stored in memory. Choosing the right data structure can reduce memory overhead and improve the performance of an application, especially when dealing with large datasets.\n",
        "\n",
        "- **Scalability:**  \n",
        "  As data grows, the efficiency of operations like search, insertion, and deletion becomes critical. Scalable systems rely on optimal data structures to handle increasing amounts of data without degrading performance.\n",
        "\n",
        "- **Algorithm Design:**  \n",
        "  Many algorithms are built around specific data structures. Understanding how data structures work allows developers to design better algorithms. For example, graph algorithms rely on data structures like adjacency lists or matrices to represent the graph.\n",
        "\n",
        "- **Real-World Applications:**  \n",
        "  Data structures are fundamental to solving real-world problems. Whether it’s managing customer records in a database, routing network packets, or rendering graphics in a video game, the right data structure makes the solution more efficient and easier to implement.\n",
        "\n",
        "\n"
      ],
      "metadata": {
        "id": "bl98IjG7gEQ5"
      }
    },
    {
      "cell_type": "markdown",
      "source": [
        "#**Q2->Explain the difference between mutable and immutable data types with examples**\n",
        "#**Ans->**\n",
        "\n",
        "### Difference Between Mutable and Immutable Data Types in Python\n",
        "\n",
        "In Python, **mutability** refers to whether an object’s state (its data) can be changed after it has been created.\n",
        "\n",
        "- **Mutable data types**: Can be modified after creation.\n",
        "- **Immutable data types**: Cannot be modified after creation. Any operation that appears to change an immutable object actually creates a new object.\n",
        "\n",
        "---\n",
        "\n",
        "### **Mutable Data Types**\n",
        "These data types allow modifications after creation, meaning elements can be changed, added, or removed.\n",
        "\n",
        "#### **Examples of Mutable Data Types**:\n",
        "1. **Lists (`list`)**\n",
        "   ```python\n",
        "   my_list = [1, 2, 3]\n",
        "   my_list[0] = 10  # Modifying the first element\n",
        "   print(my_list)  # Output: [10, 2, 3]\n",
        "   ```\n",
        "2. **Dictionaries (`dict`)**\n",
        "   ```python\n",
        "   my_dict = {'a': 1, 'b': 2}\n",
        "   my_dict['a'] = 100  # Modifying value of key 'a'\n",
        "   print(my_dict)  # Output: {'a': 100, 'b': 2}\n",
        "   ```\n",
        "3. **Sets (`set`)**\n",
        "   ```python\n",
        "   my_set = {1, 2, 3}\n",
        "   my_set.add(4)  # Adding an element\n",
        "   print(my_set)  # Output: {1, 2, 3, 4}\n",
        "   ```\n",
        "4. **Byte Arrays (`bytearray`)**\n",
        "   ```python\n",
        "   my_bytes = bytearray([65, 66, 67])\n",
        "   my_bytes[0] = 97  # Changing the first byte\n",
        "   print(my_bytes)  # Output: bytearray(b'aBC')\n",
        "   ```\n",
        "\n",
        "---\n",
        "\n",
        "### **Immutable Data Types**\n",
        "Once an immutable object is created, its value cannot be changed. If you try to modify it, Python will create a new object instead of modifying the existing one.\n",
        "\n",
        "#### **Examples of Immutable Data Types**:\n",
        "1. **Integers (`int`)**\n",
        "   ```python\n",
        "   x = 10\n",
        "   x = x + 5  # This creates a new object, does not modify x\n",
        "   print(x)  # Output: 15\n",
        "   ```\n",
        "2. **Floats (`float`)**\n",
        "   ```python\n",
        "   y = 3.14\n",
        "   y += 1.0  # New float object is created\n",
        "   print(y)  # Output: 4.14\n",
        "   ```\n",
        "3. **Strings (`str`)**\n",
        "   ```python\n",
        "   my_str = \"hello\"\n",
        "   my_str[0] = \"H\"  # This will raise an error: TypeError\n",
        "   my_str = \"Hello\"  # Creates a new string object\n",
        "   ```\n",
        "4. **Tuples (`tuple`)**\n",
        "   ```python\n",
        "   my_tuple = (1, 2, 3)\n",
        "   my_tuple[0] = 10  # This will raise an error: TypeError\n",
        "   ```\n",
        "5. **Frozen Sets (`frozenset`)**\n",
        "   ```python\n",
        "   my_frozenset = frozenset([1, 2, 3])\n",
        "   my_frozenset.add(4)  # This will raise an error: AttributeError\n",
        "   ```\n",
        "\n",
        "---\n",
        "\n",
        "### **Differences**\n",
        "| Feature         | Mutable Data Types  | Immutable Data Types |\n",
        "|----------------|------------------|------------------|\n",
        "| **Can be modified?** | Yes | No |\n",
        "| **Memory efficiency** | Uses the same object | Creates a new object |\n",
        "| **Examples** | `list`, `dict`, `set`, `bytearray` | `int`, `float`, `str`, `tuple`, `frozenset`, `bytes` |\n",
        "| **Performance** | May have overhead in memory due to modifications | More optimized as new objects are created when needed |\n"
      ],
      "metadata": {
        "id": "BbL2hCJ2g224"
      }
    },
    {
      "cell_type": "markdown",
      "source": [
        "#**Q3->What are the main differences between lists and tuples in Python?**\n",
        "#**Ans->**\n",
        "\n",
        "### **Main Differences Between Lists and Tuples in Python**\n",
        "\n",
        "Both **lists** and **tuples** are used to store collections of items in Python, but they have key differences in terms of mutability, performance, and use cases.\n",
        "\n",
        "---\n",
        "\n",
        "### **1. Mutability**\n",
        "| Feature | **List (`list`)** | **Tuple (`tuple`)** |\n",
        "|---------|------------------|---------------------|\n",
        "| **Mutable or Immutable?** | Mutable (can be modified after creation) | Immutable (cannot be modified after creation) |\n",
        "| **Example Modification** |  Allowed |  Not Allowed |\n",
        "\n",
        "#### **Example**\n",
        "```python\n",
        "# List - Mutable\n",
        "my_list = [1, 2, 3]\n",
        "my_list[0] = 10  # Modifying an element\n",
        "print(my_list)  # Output: [10, 2, 3]\n",
        "\n",
        "# Tuple - Immutable\n",
        "my_tuple = (1, 2, 3)\n",
        "my_tuple[0] = 10  #  Raises TypeError: 'tuple' object does not support item assignment\n",
        "```\n",
        "\n",
        "---\n",
        "\n",
        "### **2. Performance**\n",
        "| Feature | **List** | **Tuple** |\n",
        "|---------|---------|---------|\n",
        "| **Speed** | Slower (because it allows modifications) | Faster (due to immutability) |\n",
        "| **Memory Usage** | Uses more memory | Uses less memory |\n",
        "\n",
        "#### **Example Performance Comparison**\n",
        "```python\n",
        "import sys\n",
        "\n",
        "list_example = [1, 2, 3, 4, 5]\n",
        "tuple_example = (1, 2, 3, 4, 5)\n",
        "\n",
        "print(sys.getsizeof(list_example))  # More memory\n",
        "print(sys.getsizeof(tuple_example))  # Less memory\n",
        "```\n",
        "\n",
        "---\n",
        "\n",
        "### **3. Syntax Differences**\n",
        "| Feature | **List** | **Tuple** |\n",
        "|---------|---------|---------|\n",
        "| **Defined using** | `[]` (square brackets) | `()` (parentheses) |\n",
        "\n",
        "#### **Example**\n",
        "```python\n",
        "# List\n",
        "my_list = [1, 2, 3]\n",
        "\n",
        "# Tuple\n",
        "my_tuple = (1, 2, 3)\n",
        "```\n",
        "\n",
        "---\n",
        "\n",
        "### **4. Methods Available**\n",
        "| Feature | **List** | **Tuple** |\n",
        "|---------|---------|---------|\n",
        "| **Methods Available** | Many built-in methods (`append()`, `remove()`, `pop()`, etc.) | Limited methods (`count()`, `index()`) |\n",
        "| **Mutability of Methods** |  Can add/remove elements |  Cannot modify elements |\n",
        "\n",
        "#### **Example**\n",
        "```python\n",
        "# List has more methods\n",
        "my_list = [1, 2, 3]\n",
        "my_list.append(4)  #  Works\n",
        "print(my_list)  # Output: [1, 2, 3, 4]\n",
        "\n",
        "# Tuple has limited methods\n",
        "my_tuple = (1, 2, 3)\n",
        "print(my_tuple.count(2))  #  Works\n",
        "my_tuple.append(4)  #  AttributeError: 'tuple' object has no attribute 'append'\n",
        "```\n",
        "\n",
        "---\n",
        "\n",
        "### **5. Use Cases**\n",
        "| Feature | **List** | **Tuple** |\n",
        "|---------|---------|---------|\n",
        "| **Usage** | When you need to modify data | When data should remain constant |\n",
        "| **Best For** | Dynamic collections, frequent modifications | Fixed data structures, faster access |\n",
        "\n",
        "#### **Example Use Case**\n",
        "- **Lists**: Storing user input, processing large data that changes frequently.\n",
        "- **Tuples**: Storing constant values like days of the week.\n",
        "\n",
        "```python\n",
        "# Using a list for a shopping cart (modifiable)\n",
        "shopping_cart = [\"Apple\", \"Banana\", \"Cherry\"]\n",
        "shopping_cart.append(\"Mango\")  # Works\n",
        "\n",
        "# Using a tuple for days of the week (fixed)\n",
        "days_of_week = (\"Monday\", \"Tuesday\", \"Wednesday\")  # Should not change\n",
        "```\n",
        "\n",
        "---\n",
        "\n",
        "### **Differences**\n",
        "| Feature | **List (`list`)** | **Tuple (`tuple`)** |\n",
        "|---------|------------------|---------------------|\n",
        "| **Mutability** | Mutable (modifiable) | Immutable (not modifiable) |\n",
        "| **Performance** | Slower (more overhead) | Faster (optimized) |\n",
        "| **Memory Usage** | Uses more memory | Uses less memory |\n",
        "| **Syntax** | `[]` (square brackets) | `()` (parentheses) |\n",
        "| **Methods** | Many (`append()`, `pop()`, `remove()`, etc.) | Few (`count()`, `index()`) |\n",
        "| **Use Cases** | Dynamic data that changes frequently | Fixed, constant data |\n",
        "\n"
      ],
      "metadata": {
        "id": "NHfiHHIkhfuy"
      }
    },
    {
      "cell_type": "markdown",
      "source": [
        "#**Q4-> Describe how dictionaries store data**\n",
        "#**Ans->**\n",
        "\n",
        "### **How Dictionaries Store Data in Python**\n",
        "\n",
        "A **dictionary (`dict`)** in Python is an **unordered, mutable collection** that stores data in **key-value pairs**. It allows fast lookups, insertions, and deletions using **hashing**.\n",
        "\n",
        "---\n",
        "\n",
        "### **1. Structure of a Dictionary**\n",
        "A dictionary consists of:\n",
        "- **Keys**: Unique identifiers (usually strings, numbers, or immutable types).\n",
        "- **Values**: Data associated with keys (any data type).\n",
        "\n",
        "#### **Example:**\n",
        "```python\n",
        "my_dict = {\n",
        "    \"name\": \"Alice\",\n",
        "    \"age\": 25,\n",
        "    \"city\": \"New York\"\n",
        "}\n",
        "print(my_dict[\"name\"])  # Output: Alice\n",
        "```\n",
        "Here:\n",
        "- `\"name\"`, `\"age\"`, and `\"city\"` are **keys**.\n",
        "- `\"Alice\"`, `25`, and `\"New York\"` are **values**.\n",
        "\n",
        "---\n",
        "\n",
        "### **2. How Python Stores Dictionary Data**\n",
        "Python dictionaries use a **hash table** internally to store key-value pairs. The process involves:\n",
        "\n",
        "#### **Step 1: Hashing the Key**\n",
        "- Python applies the **hash function** to each key to generate a **hash value** (an integer).\n",
        "- Example:\n",
        "  ```python\n",
        "  print(hash(\"name\"))  # Example hash output: 456789123\n",
        "  ```\n",
        "- The hash value determines the **index (bucket) in memory** where the value is stored.\n",
        "\n",
        "#### **Step 2: Storing Data in a Hash Table**\n",
        "- The dictionary maintains an **array of slots (buckets)**.\n",
        "- Each slot contains a **key-value pair**.\n",
        "- The **hashed key** determines which slot holds the value.\n",
        "\n",
        "#### **Step 3: Handling Collisions**\n",
        "- When two keys produce the same hash value, Python uses **probing** or **chaining** to resolve conflicts.\n",
        "- This ensures that even if multiple keys have the same hash, they can still be stored correctly."
      ],
      "metadata": {
        "id": "OwNd7SwIiKQ_"
      }
    },
    {
      "cell_type": "markdown",
      "source": [
        "#**Q5->Why might you use a set instead of a list in Python?**\n",
        "#**Ans->**\n",
        "\n",
        "### **Why Use a Set Instead of a List in Python?**\n",
        "\n",
        "Both **sets** and **lists** store collections of elements, but they serve different purposes. A **set** is often preferred over a **list** when uniqueness and fast lookups are needed. Here’s why you might choose a **set** instead of a **list**:\n",
        "\n",
        "---\n",
        "\n",
        "### **1. Uniqueness of Elements**\n",
        "- **Sets** automatically remove duplicate elements, while **lists** allow duplicates.\n",
        "- If you need a collection of **unique** items, a **set** is the best choice.\n",
        "\n",
        "#### **Example: Removing Duplicates**\n",
        "```python\n",
        "my_list = [1, 2, 2, 3, 4, 4, 5]\n",
        "unique_set = set(my_list)\n",
        "\n",
        "print(unique_set)  # Output: {1, 2, 3, 4, 5}\n",
        "```\n",
        "A **list** would require manual filtering, while a **set** handles it automatically.\n",
        "\n",
        "---\n",
        "\n",
        "### **2. Faster Lookups and Membership Testing**\n",
        "- **Sets use hashing**, which provides an average **O(1) time complexity** for lookups.\n",
        "- **Lists require O(n) time complexity** for searching.\n",
        "\n",
        "#### **Example: Checking Membership**\n",
        "```python\n",
        "my_list = [1, 2, 3, 4, 5]\n",
        "my_set = {1, 2, 3, 4, 5}\n",
        "\n",
        "print(3 in my_list)  # O(n) - Slower for large lists\n",
        "print(3 in my_set)   # O(1) - Much faster\n",
        "```\n",
        "For **large datasets**, **sets** are significantly faster than **lists** for membership tests.\n",
        "\n",
        "---\n",
        "\n",
        "### **3. Performance in Large-Scale Data Operations**\n",
        "- **Adding and removing elements in sets** is **O(1)** on average, while in lists it's **O(n)** in the worst case.\n",
        "- If you frequently **add/remove elements**, sets offer better efficiency.\n",
        "\n",
        "#### **Example: Adding and Removing Elements**\n",
        "```python\n",
        "my_list = [1, 2, 3]\n",
        "my_set = {1, 2, 3}\n",
        "\n",
        "# Adding an element\n",
        "my_list.append(4)  # O(1), but duplicates possible\n",
        "my_set.add(4)      # O(1), ensures uniqueness\n",
        "\n",
        "# Removing an element\n",
        "my_list.remove(2)  # O(n) - Requires searching\n",
        "my_set.remove(2)   # O(1) - Direct removal\n",
        "```\n",
        "\n",
        "---\n",
        "\n",
        "### **4. Built-in Set Operations**\n",
        "- Sets support mathematical operations like **union, intersection, and difference**.\n",
        "- Lists require manual looping or using list comprehensions.\n",
        "\n",
        "#### **Example: Finding Common Elements (Intersection)**\n",
        "```python\n",
        "list1 = [1, 2, 3, 4]\n",
        "list2 = [3, 4, 5, 6]\n",
        "\n",
        "# Using set intersection (fast)\n",
        "common = set(list1) & set(list2)\n",
        "print(common)  # Output: {3, 4}\n",
        "\n",
        "# Using list comprehension (slow)\n",
        "common_list = [x for x in list1 if x in list2]\n",
        "print(common_list)  # Output: [3, 4]\n",
        "```\n",
        "**Set operations** are much faster than iterating over lists."
      ],
      "metadata": {
        "id": "5GS6GmFgjNy-"
      }
    },
    {
      "cell_type": "markdown",
      "source": [
        "#**Q6->What is a string in Python, and how is it different from a list?**\n",
        "#**Ans->**\n",
        "### **What is a String in Python?**  \n",
        "A **string** in Python is a sequence of characters enclosed in **single (`'`), double (`\"`), or triple (`''' \"\"\"`) quotes**. It is an **immutable data type**, meaning its contents cannot be changed after creation.\n",
        "\n",
        "#### **Example: Defining a String**\n",
        "```python\n",
        "text = \"Hello, Python!\"\n",
        "print(text)  # Output: Hello, Python!\n",
        "```\n",
        "\n",
        "---\n",
        "\n",
        "### **Differences Between Strings and Lists**\n",
        "Both **strings** and **lists** are **sequences** in Python, meaning they both allow indexing, slicing, and iteration. However, they have key differences:\n",
        "\n",
        "| Feature | **String (`str`)** | **List (`list`)** |\n",
        "|---------|------------------|----------------|\n",
        "| **Mutability** | **Immutable** (Cannot be changed) | **Mutable** (Can be modified) |\n",
        "| **Data Type** | Contains **only characters** | Can store **multiple data types** (integers, floats, strings, etc.) |\n",
        "| **Modification** | Changes create a new string | Elements can be added, removed, or modified |\n",
        "| **Operations** | Supports string-specific methods (`upper()`, `replace()`, etc.) | Supports list-specific methods (`append()`, `remove()`, etc.) |\n",
        "| **Iteration** | Iterates over characters | Iterates over elements |\n",
        "| **Storage** | More **memory-efficient** | Uses more memory due to element references |\n",
        "\n",
        "---\n",
        "\n",
        "### **1. Strings Are Immutable, Lists Are Mutable**\n",
        "- **Strings cannot be changed after creation**. Any modification creates a new string.\n",
        "- **Lists allow modification** of elements.\n",
        "\n",
        "#### **Example: Immutability of Strings**\n",
        "```python\n",
        "s = \"hello\"\n",
        "s[0] = 'H'  #  TypeError: 'str' object does not support item assignment\n",
        "```\n",
        "The only way to \"modify\" a string is to **create a new one**:\n",
        "```python\n",
        "s = \"H\" + s[1:]  # Creates a new string: \"Hello\"\n",
        "print(s)  # Output: Hello\n",
        "```\n",
        "\n",
        "#### **Example: Mutability of Lists**\n",
        "```python\n",
        "lst = ['h', 'e', 'l', 'l', 'o']\n",
        "lst[0] = 'H'  #  Works fine\n",
        "print(lst)  # Output: ['H', 'e', 'l', 'l', 'o']\n",
        "```\n",
        "\n",
        "---\n",
        "\n",
        "### **2. Strings Only Store Characters, Lists Can Store Multiple Data Types**\n",
        "- **Strings** contain only **characters**.\n",
        "- **Lists** can hold **different data types** (integers, floats, strings, other lists, etc.).\n",
        "\n",
        "#### **Example: List with Mixed Data Types**\n",
        "```python\n",
        "my_list = [10, \"Python\", 3.14, [1, 2, 3]]\n",
        "print(my_list)  # Output: [10, 'Python', 3.14, [1, 2, 3]]\n",
        "```\n",
        "\n",
        "---\n",
        "\n",
        "### **3. Different Methods Available**\n",
        "#### **String Methods**\n",
        "```python\n",
        "s = \"hello\"\n",
        "print(s.upper())  # Output: HELLO\n",
        "print(s.replace(\"h\", \"H\"))  # Output: Hello\n",
        "```\n",
        "\n",
        "#### **List Methods**\n",
        "```python\n",
        "lst = [1, 2, 3]\n",
        "lst.append(4)  #  Adds an element\n",
        "print(lst)  # Output: [1, 2, 3, 4]\n",
        "```\n",
        "\n",
        "---\n",
        "\n",
        "### **4. Indexing and Slicing Work Similarly**\n",
        "Both **strings** and **lists** support indexing and slicing.\n",
        "\n",
        "#### **Example: Indexing**\n",
        "```python\n",
        "s = \"Python\"\n",
        "lst = ['P', 'y', 't', 'h', 'o', 'n']\n",
        "\n",
        "print(s[1])  # Output: y\n",
        "print(lst[1])  # Output: y\n",
        "```\n",
        "\n",
        "#### **Example: Slicing**\n",
        "```python\n",
        "print(s[1:4])  # Output: yth\n",
        "print(lst[1:4])  # Output: ['y', 't', 'h']\n",
        "```\n",
        "\n",
        "---\n",
        "\n",
        "### **5. Memory Efficiency**\n",
        "- **Strings** are more **memory-efficient** because they are immutable and optimized by Python.\n",
        "- **Lists** consume more **memory** because they store references to objects.\n",
        "\n",
        "#### **Example: Checking Memory Usage**\n",
        "```python\n",
        "import sys\n",
        "\n",
        "s = \"hello\"\n",
        "lst = ['h', 'e', 'l', 'l', 'o']\n",
        "\n",
        "print(sys.getsizeof(s))   # Memory usage of string\n",
        "print(sys.getsizeof(lst)) # Memory usage of list\n",
        "```\n",
        "Lists generally use **more memory** because they hold references to separate objects."
      ],
      "metadata": {
        "id": "MxihcrAYj1C0"
      }
    },
    {
      "cell_type": "markdown",
      "source": [
        "#**Q7->How do tuples ensure data integrity in Python?**\n",
        "#**Ans->**\n",
        "### **How Tuples Ensure Data Integrity in Python3**\n",
        "\n",
        "A **tuple** in Python is an **immutable** sequence, meaning its elements **cannot be changed, added, or removed** after creation. This immutability ensures **data integrity** by preventing accidental modifications. Here's how tuples help maintain data integrity:\n",
        "\n",
        "---\n",
        "\n",
        "### **1. Immutability Prevents Unintended Changes**\n",
        "- Since tuples **cannot be modified**, once data is stored in a tuple, it remains unchanged.\n",
        "- This prevents accidental overwrites or deletions.\n",
        "\n",
        "#### **Example: Attempting to Modify a Tuple**\n",
        "```python\n",
        "data = (1, 2, 3)\n",
        "data[0] = 10  # ❌ TypeError: 'tuple' object does not support item assignment\n",
        "```\n",
        "This ensures that critical data remains consistent throughout the program.\n",
        "\n",
        "---\n",
        "\n",
        "### **2. Tuples Ensure Consistency in Function Arguments**\n",
        "- When passing **lists** as function arguments, modifications inside the function affect the original list.\n",
        "- Tuples prevent such accidental modifications.\n",
        "\n",
        "#### **Example: Using a List vs. a Tuple in a Function**\n",
        "```python\n",
        "def modify_list(lst):\n",
        "    lst[0] = 100  # Modifies the original list\n",
        "\n",
        "def modify_tuple(tpl):\n",
        "    tpl[0] = 100  # ❌ TypeError: 'tuple' object does not support item assignment\n",
        "\n",
        "my_list = [1, 2, 3]\n",
        "modify_list(my_list)\n",
        "print(my_list)  # Output: [100, 2, 3] (Changed)\n",
        "\n",
        "my_tuple = (1, 2, 3)\n",
        "# modify_tuple(my_tuple)  # This would raise an error, ensuring data integrity\n",
        "print(my_tuple)  # Output: (1, 2, 3) (Unchanged)\n",
        "```\n",
        "With tuples, data remains **safe** and **unchanged**, preventing side effects.\n",
        "\n",
        "---\n",
        "\n",
        "### **3. Tuples Can Be Used as Dictionary Keys (Ensuring Unique Identifiers)**\n",
        "- Since tuples are **immutable**, they are **hashable** and can be used as dictionary keys.\n",
        "- This allows tuples to act as **fixed unique identifiers**.\n",
        "\n",
        "#### **Example: Using Tuples as Dictionary Keys**\n",
        "```python\n",
        "coordinates = {(10, 20): \"Point A\", (30, 40): \"Point B\"}\n",
        "print(coordinates[(10, 20)])  # Output: Point A\n",
        "```\n",
        "- If a **list** were used as a key, Python would raise a **TypeError**.\n",
        "---\n",
        "\n",
        "### **4. Tuples Work Well as Fixed Data Structures**\n",
        "- Tuples ensure **structured, unchangeable** data, making them ideal for **configuration settings, database records, and fixed lists of values**.\n",
        "\n",
        "#### **Example: Storing Fixed Configuration Data**\n",
        "```python\n",
        "config = (\"localhost\", 5432, \"admin\")  # Database connection settings\n",
        "```\n",
        "Here, using a tuple ensures that the configuration remains **constant**."
      ],
      "metadata": {
        "id": "HHj7Lj-bkc8a"
      }
    },
    {
      "cell_type": "markdown",
      "source": [
        "#**Q8-> What is a hash table, and how does it relate to dictionaries in Python3**\n",
        "#**Ans->**\n",
        "A **hash table** is a data structure that stores key-value pairs and allows for fast data retrieval. It uses a **hash function** to compute an index (hash code) where the value associated with a given key is stored. This allows for efficient lookup, insertion, and deletion operations, typically with an average time complexity of **O(1)**.\n",
        "\n",
        "### **Hash Tables and Python Dictionaries**\n",
        "In Python, the **dictionary (`dict`)** is implemented as a hash table. Here's how they are related:\n",
        "\n",
        "1. **Hashing Mechanism**:  \n",
        "   - When a key is added to a dictionary, Python computes a **hash value** for the key using the built-in `hash()` function.\n",
        "   - This hash value determines the index in an internal array where the corresponding value is stored.\n",
        "  \n",
        "2. **Handling Collisions**:  \n",
        "   - Since different keys may produce the same hash (a rare but possible event), Python uses **open addressing** with **probing** to resolve collisions.\n",
        "  \n",
        "3. **Performance**:  \n",
        "   - Dictionaries provide **constant-time** lookups, insertions, and deletions on average, making them very efficient.\n",
        "\n",
        "### **Example of a Dictionary in Python**\n",
        "```python\n",
        "# Creating a dictionary (which is a hash table)\n",
        "student_grades = {\"Alice\": 85, \"Bob\": 92, \"Charlie\": 78}\n",
        "\n",
        "# Accessing a value using a key (O(1) time complexity on average)\n",
        "print(student_grades[\"Alice\"])  # Output: 85\n",
        "\n",
        "# Adding a new key-value pair\n",
        "student_grades[\"David\"] = 88\n",
        "\n",
        "# Deleting a key-value pair\n",
        "del student_grades[\"Charlie\"]\n",
        "```"
      ],
      "metadata": {
        "id": "BdahGBGGkcfL"
      }
    },
    {
      "cell_type": "markdown",
      "source": [
        "#**Q9->Can lists contain different data types in Python3**\n",
        "#**Ans->**\n",
        "\n",
        "\n",
        "Yes, **lists** in Python **can contain different data types**. Python lists are **heterogeneous**, meaning they can store elements of **different types** within the same list.\n",
        "\n",
        "### **Example: A List with Different Data Types**\n",
        "```python\n",
        "mixed_list = [42, \"hello\", 3.14, True, [1, 2, 3], {\"key\": \"value\"}]\n",
        "\n",
        "# Accessing elements\n",
        "print(mixed_list[0])  # 42 (Integer)\n",
        "print(mixed_list[1])  # \"hello\" (String)\n",
        "print(mixed_list[2])  # 3.14 (Float)\n",
        "print(mixed_list[3])  # True (Boolean)\n",
        "print(mixed_list[4])  # [1, 2, 3] (List)\n",
        "print(mixed_list[5])  # {'key': 'value'} (Dictionary)\n",
        "```\n",
        "\n",
        "### **Why Can Lists Hold Different Types?**\n",
        "- Python is **dynamically typed**, meaning variables and list elements do not need explicit type declarations.\n",
        "- Lists store references to objects rather than the objects themselves, allowing them to contain **mixed types**.\n",
        "\n",
        "### **Use Cases**\n",
        "- Storing records with different data types (e.g., student details: `[\"Alice\", 20, 3.9, True]`).\n",
        "- Creating collections of mixed objects for dynamic programming needs.\n",
        "\n",
        "Even though lists can hold multiple data types, using consistent types within a list is often **recommended for better readability and maintainability**."
      ],
      "metadata": {
        "id": "WUEpaEj5lVYa"
      }
    },
    {
      "cell_type": "markdown",
      "source": [
        "#**Q10->Explain why strings are immutable in Python**\n",
        "#**Ans->**\n",
        "\n",
        "### **Why Are Strings Immutable in Python?**  \n",
        "In Python, **strings are immutable**, meaning once a string is created, its contents **cannot be changed**. Any operation that modifies a string actually creates a **new string** rather than modifying the original.\n",
        "\n",
        "### **Reasons for String Immutability**\n",
        "1. **Memory Efficiency (String Interning)**  \n",
        "   - Python optimizes memory usage by **interning** strings (storing them in a shared memory space).  \n",
        "   - If strings were mutable, changing one string in place could affect multiple variables referencing the same string.  \n",
        "   - Example:\n",
        "     ```python\n",
        "     s1 = \"hello\"\n",
        "     s2 = \"hello\"  # Both refer to the same memory location\n",
        "     print(s1 is s2)  # True\n",
        "     ```\n",
        "  \n",
        "2. **Security & Hashing**  \n",
        "   - Strings are used as **keys in dictionaries and sets**, which require **hashable (immutable) objects**.  \n",
        "   - If strings were mutable, their **hash values** could change, leading to unpredictable behavior.  \n",
        "   - Example:\n",
        "     ```python\n",
        "     my_dict = {\"name\": \"Alice\"}\n",
        "     print(hash(\"name\"))  # Works because \"name\" is immutable\n",
        "     ```\n",
        "  \n",
        "3. **Prevents Unintended Side Effects**  \n",
        "   - If strings were mutable, modifying a string in one part of a program could **accidentally change** it elsewhere.\n",
        "   - Immutability ensures **predictability** and **thread safety** in concurrent applications.\n",
        "\n",
        "### **Example Demonstrating Immutability**\n",
        "```python\n",
        "s = \"hello\"\n",
        "s[0] = \"H\"  # This will raise an error: TypeError: 'str' object does not support item assignment\n",
        "```\n",
        "\n"
      ],
      "metadata": {
        "id": "uhvpfr_9lzNa"
      }
    },
    {
      "cell_type": "markdown",
      "source": [
        "#**Q11->What advantages do dictionaries offer over lists for certain tasks?**\n",
        "#**Ans->**\n",
        "\n",
        "### **Advantages of Dictionaries Over Lists for Certain Tasks**  \n",
        "\n",
        "While **lists** and **dictionaries** both store data, dictionaries provide several advantages over lists in specific scenarios, mainly due to their **key-value structure** and **efficient lookups**.\n",
        "\n",
        "---\n",
        "\n",
        "### **1. Faster Lookups (O(1) Time Complexity)**\n",
        "- **Dictionaries use hash tables**, allowing for **constant-time** lookups on average (`O(1)` complexity).  \n",
        "- **Lists require linear searches** (`O(n)`) when searching for an element by value.  \n",
        "\n",
        "**Example:**  \n",
        "Using a dictionary for quick lookups:\n",
        "```python\n",
        "# Using a dictionary for quick access\n",
        "student_grades = {\"Alice\": 85, \"Bob\": 92, \"Charlie\": 78}\n",
        "print(student_grades[\"Bob\"])  # Fast lookup (O(1)) → Output: 92\n",
        "```\n",
        "With a **list**, searching for a student's grade would require iterating through the list (`O(n)`).  \n",
        "```python\n",
        "# Using a list (Slower lookup)\n",
        "students = [(\"Alice\", 85), (\"Bob\", 92), (\"Charlie\", 78)]\n",
        "for name, grade in students:\n",
        "    if name == \"Bob\":\n",
        "        print(grade)  # Output: 92\n",
        "```\n",
        "\n",
        "---\n",
        "\n",
        "### **2. Meaningful Key-Value Pairing**\n",
        "- In a **list**, data is accessed by index, which may not be intuitive.\n",
        "- In a **dictionary**, you can use **descriptive keys** to store and retrieve values.\n",
        "\n",
        "**Example:**\n",
        "```python\n",
        "# List (Less readable)\n",
        "person_list = [\"Alice\", 25, \"Engineer\"]\n",
        "print(person_list[0])  # Name: Alice\n",
        "print(person_list[1])  # Age: 25\n",
        "\n",
        "# Dictionary (More readable)\n",
        "person_dict = {\"name\": \"Alice\", \"age\": 25, \"job\": \"Engineer\"}\n",
        "print(person_dict[\"name\"])  # Output: Alice\n",
        "```\n",
        "\n",
        "---\n",
        "\n",
        "### **3. No Need to Maintain Order for Searching**\n",
        "- **Dictionaries do not require ordered storage for efficient access**, whereas **lists must be sorted for efficient searches** (binary search requires `O(log n)`, but insertion is costly).\n",
        "\n",
        "---\n",
        "\n",
        "### **4. Easy Data Modification & Deletion**\n",
        "- **Dictionaries allow quick updates and deletions by key**.\n",
        "- **Lists require searching and shifting elements** for updates and deletions.\n",
        "\n",
        "**Example: Updating a value in a dictionary vs. a list**\n",
        "```python\n",
        "# Dictionary (O(1))\n",
        "person = {\"name\": \"Alice\", \"age\": 25}\n",
        "person[\"age\"] = 26  # Quick update\n",
        "\n",
        "# List (O(n) search required)\n",
        "people = [(\"Alice\", 25), (\"Bob\", 30)]\n",
        "for i, (name, age) in enumerate(people):\n",
        "    if name == \"Alice\":\n",
        "        people[i] = (name, 26)  # Slower update\n",
        "```\n",
        "\n",
        "---\n",
        "\n",
        "### **5. Handling Unique Elements Easily**\n",
        "- **Dictionaries ensure uniqueness of keys**, whereas lists may have duplicate values, requiring extra checks.\n",
        "\n",
        "**Example: Avoiding duplicate entries**\n",
        "```python\n",
        "# Dictionary automatically prevents duplicate keys\n",
        "data = {\"Alice\": \"Engineer\", \"Bob\": \"Doctor\"}\n",
        "data[\"Alice\"] = \"Manager\"  # Simply updates value, no duplicates\n",
        "\n",
        "# List allows duplicates (requires additional filtering)\n",
        "data_list = [(\"Alice\", \"Engineer\"), (\"Bob\", \"Doctor\"), (\"Alice\", \"Manager\")]\n",
        "```"
      ],
      "metadata": {
        "id": "YW-GAiwpmTLo"
      }
    },
    {
      "cell_type": "markdown",
      "source": [
        "#**Q12->Describe a scenario where using a tuple would be preferable over a list?**\n",
        "#**Ans->**\n",
        "\n",
        "### **Scenario Where a Tuple is Preferable Over a List**  \n",
        "\n",
        "A **tuple** is preferable over a **list** when **immutability, performance, and memory efficiency** are important. One common scenario is **using tuples as dictionary keys** or in **data integrity cases**.\n",
        "\n",
        "---\n",
        "\n",
        "### **Scenario: Using Tuples as Dictionary Keys (Immutable Keys)**  \n",
        "Dictionaries require **hashable** keys, and since tuples are **immutable**, they can be used as dictionary keys, whereas lists **cannot**.\n",
        "\n",
        "#### **Example: Storing Coordinates as Dictionary Keys**\n",
        "Suppose you're building a **geolocation-based weather system** that maps **(latitude, longitude) coordinates** to weather conditions.\n",
        "\n",
        "```python\n",
        "# Dictionary with tuple keys\n",
        "weather_data = {\n",
        "    (40.7128, -74.0060): \"Rainy\",   # New York\n",
        "    (34.0522, -118.2437): \"Sunny\",  # Los Angeles\n",
        "    (51.5074, -0.1278): \"Cloudy\"    # London\n",
        "}\n",
        "\n",
        "# Retrieving weather for a location\n",
        "print(weather_data[(40.7128, -74.0060)])  # Output: Rainy\n",
        "```\n",
        "#### **Why Use Tuples Instead of Lists?**\n",
        "- **Tuples are immutable**, ensuring that coordinate keys remain unchanged.\n",
        "- **Lists are mutable**, making them **unhashable** (cannot be used as dictionary keys).\n",
        "- **Fast lookups**: Tuples have **faster access** than lists due to their fixed size.\n",
        "\n",
        "---\n",
        "\n",
        "### **Other Scenarios Where Tuples Are Preferable**\n",
        "1. **Ensuring Data Integrity (Fixed Data)**\n",
        "   - Example: Representing **days of the week**, where modification is unnecessary:\n",
        "   ```python\n",
        "   days_of_week = (\"Monday\", \"Tuesday\", \"Wednesday\", \"Thursday\", \"Friday\", \"Saturday\", \"Sunday\")\n",
        "   ```\n",
        "\n",
        "2. **Function Return Values (Multiple Outputs)**\n",
        "   - Example: A function returning **multiple values** as an immutable collection:\n",
        "   ```python\n",
        "   def get_coordinates():\n",
        "       return (40.7128, -74.0060)  # Latitude, Longitude\n",
        "   lat, lon = get_coordinates()\n",
        "   ```\n",
        "\n",
        "3. **Faster Performance in Large Data Sets**\n",
        "   - Since tuples are **faster** and consume **less memory** than lists, they are better for **read-only** large datasets.\n",
        "\n",
        "\n"
      ],
      "metadata": {
        "id": "m_agMRE3mxxE"
      }
    },
    {
      "cell_type": "markdown",
      "source": [
        "#**Q13->How do sets handle duplicate values in Python?**\n",
        "#**Ans->**\n",
        "\n",
        "In Python, **sets automatically eliminate duplicate values** because they are **unordered collections of unique elements**. When you add duplicate elements to a set, Python **ignores** them instead of storing multiple copies.\n",
        "\n",
        "---\n",
        "\n",
        "### **How Sets Handle Duplicates**\n",
        "1. **If a duplicate value is added, it is ignored.**\n",
        "2. **Sets store only unique values** and do not allow repeated elements.\n",
        "3. **Duplicate removal is automatic**—you don’t need extra code to filter duplicates.\n",
        "\n",
        "---\n",
        "\n",
        "### **Example: Duplicate Values in a Set**\n",
        "```python\n",
        "# Creating a set with duplicate values\n",
        "numbers = {1, 2, 2, 3, 4, 4, 5}\n",
        "print(numbers)  # Output: {1, 2, 3, 4, 5} (Duplicates are removed)\n",
        "```\n",
        "---\n",
        "\n",
        "### **Using Sets to Remove Duplicates from a List**\n",
        "Since sets **automatically remove duplicates**, they can be used to filter unique elements from a list.\n",
        "\n",
        "```python\n",
        "# List with duplicates\n",
        "num_list = [1, 2, 2, 3, 4, 4, 5]\n",
        "\n",
        "# Convert list to set (removes duplicates)\n",
        "unique_numbers = set(num_list)\n",
        "print(unique_numbers)  # Output: {1, 2, 3, 4, 5}\n",
        "```"
      ],
      "metadata": {
        "id": "KN7bfV2rnTh_"
      }
    },
    {
      "cell_type": "markdown",
      "source": [
        "#**Q14->How does the “in” keyword work differently for lists and dictionaries?**\n",
        "#**Ans->**\n",
        "\n",
        "The **`in`** keyword is used to check for membership in **iterable objects** like **lists** and **dictionaries**, but it works differently for each.\n",
        "\n",
        "---\n",
        "\n",
        "## **1. `in` with Lists (Checks for Element Existence)**\n",
        "- The `in` keyword **searches for a value inside a list** by iterating through each element.\n",
        "- The time complexity is **O(n)** (linear search) because Python checks each element **one by one** until a match is found.\n",
        "\n",
        "### **Example: Checking Membership in a List**\n",
        "```python\n",
        "my_list = [10, 20, 30, 40]\n",
        "\n",
        "print(20 in my_list)  # Output: True\n",
        "print(50 in my_list)  # Output: False\n",
        "```\n",
        "- Python **scans the entire list** if needed, making it slower for large lists.\n",
        "\n",
        "---\n",
        "\n",
        "## **2. `in` with Dictionaries (Checks for Keys, Not Values)**\n",
        "- The `in` keyword **checks for the existence of a key** in a dictionary, **not values**.\n",
        "- Since dictionaries use **hash tables**, key lookups are much **faster** (`O(1)` on average).\n",
        "\n",
        "### **Example: Checking for a Key in a Dictionary**\n",
        "```python\n",
        "my_dict = {\"name\": \"Alice\", \"age\": 25, \"city\": \"New York\"}\n",
        "\n",
        "print(\"name\" in my_dict)   # Output: True (Key exists)\n",
        "print(\"Alice\" in my_dict)  # Output: False (Values are not checked)\n",
        "```\n",
        "To check for a **value**, you must use `.values()`:\n",
        "```python\n",
        "print(\"Alice\" in my_dict.values())  # Output: True\n",
        "```\n",
        "- **Key lookup is O(1) (on average), while value lookup is O(n)**.\n"
      ],
      "metadata": {
        "id": "VLiapE2Pnt6N"
      }
    },
    {
      "cell_type": "markdown",
      "source": [
        "#**Q15->Can you modify the elements of a tuple? Explain why or why not?**\n",
        "#**Sol->**\n",
        "\n",
        "**No**, you **cannot modify** the elements of a **tuple** in Python because **tuples are immutable**. This means that **once a tuple is created, its elements cannot be changed, added, or removed**.\n",
        "\n",
        "---\n",
        "\n",
        "### **Why Are Tuples Immutable?**\n",
        "1. **Memory Optimization**  \n",
        "   - Tuples consume less memory compared to lists, making them **faster** and more **efficient** for storing fixed data.\n",
        "\n",
        "2. **Hashability**  \n",
        "   - Since tuples are immutable, they can be used as **keys in dictionaries** or **elements in sets**, unlike lists.\n",
        "\n",
        "3. **Data Integrity**  \n",
        "   - Prevents accidental modification, ensuring **data consistency**.\n",
        "\n",
        "---\n",
        "\n",
        "### **Example: Attempting to Modify a Tuple**\n",
        "```python\n",
        "my_tuple = (1, 2, 3)\n",
        "my_tuple[0] = 10  # ❌ TypeError: 'tuple' object does not support item assignment\n",
        "```\n",
        "\n",
        "---\n",
        "\n",
        "### **Workarounds: How to \"Modify\" a Tuple**\n",
        "Even though tuples are immutable, you can create a **new tuple** with the desired modifications.\n",
        "\n",
        "#### **1. Convert Tuple to List, Modify, and Convert Back**\n",
        "```python\n",
        "my_tuple = (1, 2, 3)\n",
        "temp_list = list(my_tuple)  # Convert to list\n",
        "temp_list[0] = 10           # Modify element\n",
        "my_tuple = tuple(temp_list) # Convert back to tuple\n",
        "print(my_tuple)  # Output: (10, 2, 3)\n",
        "```\n",
        "\n",
        "#### **2. Tuple Concatenation (Creates a New Tuple)**\n",
        "```python\n",
        "my_tuple = (1, 2, 3)\n",
        "new_tuple = (10,) + my_tuple[1:]  # Creating a new tuple\n",
        "print(new_tuple)  # Output: (10, 2, 3)\n",
        "```\n",
        "\n",
        "---\n",
        "\n",
        "### **Exception: Mutable Objects Inside Tuples**\n",
        "While tuples themselves are immutable, **mutable elements inside a tuple (like lists or dictionaries) can be modified**.\n",
        "\n",
        "```python\n",
        "my_tuple = ([1, 2, 3], \"hello\", 42)\n",
        "\n",
        "# Modifying the list inside the tuple (Allowed)\n",
        "my_tuple[0].append(4)\n",
        "print(my_tuple)  # Output: ([1, 2, 3, 4], 'hello', 42)\n",
        "```\n",
        "**Note:** The **tuple structure** remains unchanged, but the **mutable object inside it** (the list) can be altered.\n"
      ],
      "metadata": {
        "id": "51NqaroQoPaD"
      }
    },
    {
      "cell_type": "markdown",
      "source": [
        "#**Q16->What is a nested dictionary, and give an example of its use case?**\n",
        "#**Ans->**\n",
        "\n",
        "### **What is a Nested Dictionary?**  \n",
        "A **nested dictionary** is a **dictionary inside another dictionary**. This allows storing **complex hierarchical data** in a structured way.\n",
        "\n",
        "### **Example Use Case: Student Records System**  \n",
        "A school system needs to store student details, including **grades and contact information**, in a structured format.\n",
        "\n",
        "```python\n",
        "students = {\n",
        "    \"Alice\": {\n",
        "        \"age\": 20,\n",
        "        \"grades\": {\"Math\": 90, \"Science\": 85},\n",
        "        \"contact\": {\"email\": \"alice@example.com\", \"phone\": \"123-456-7890\"}\n",
        "    },\n",
        "    \"Bob\": {\n",
        "        \"age\": 21,\n",
        "        \"grades\": {\"Math\": 88, \"Science\": 92},\n",
        "        \"contact\": {\"email\": \"bob@example.com\", \"phone\": \"987-654-3210\"}\n",
        "    }\n",
        "}\n",
        "\n",
        "# Accessing data\n",
        "print(students[\"Alice\"][\"grades\"][\"Math\"])  # Output: 90\n",
        "print(students[\"Bob\"][\"contact\"][\"email\"])  # Output: bob@example.com\n",
        "```\n",
        "\n",
        "### **Why Use Nested Dictionaries?**\n",
        "1. **Organizes related data** (e.g., grouping student details).\n",
        "2. **Improves readability** compared to flat dictionaries.\n",
        "3. **Provides efficient lookups** with structured keys.\n"
      ],
      "metadata": {
        "id": "jWulrSCuoxcw"
      }
    },
    {
      "cell_type": "markdown",
      "source": [
        "#**Q17-> Describe the time complexity of accessing elements in a dictionary**\n",
        "#**Ans->**\n",
        "\n",
        "### **Time Complexity of Accessing Elements in a Dictionary**  \n",
        "\n",
        "In Python, **dictionaries are implemented as hash tables**, making element access highly efficient. The time complexity for accessing elements depends on whether the **key exists** or not.\n",
        "\n",
        "---\n",
        "\n",
        "### **1. Best and Average Case: O(1) (Constant Time)**\n",
        "- **Dictionary lookups are typically O(1)** because Python uses **hashing** to find the key directly.\n",
        "- No need to iterate over elements like in a list.\n",
        "\n",
        "**Example: O(1) Lookup**  \n",
        "```python\n",
        "my_dict = {\"name\": \"Alice\", \"age\": 25, \"city\": \"New York\"}\n",
        "print(my_dict[\"age\"])  # O(1) lookup\n",
        "```\n",
        "- Python computes the **hash of \"age\"**, finds the index in the hash table, and retrieves the value in **constant time**.\n",
        "\n",
        "---\n",
        "\n",
        "### **2. Worst Case: O(n) (When Hash Collisions Occur)**\n",
        "- If multiple keys **hash to the same index** (hash collision), Python stores them in a **linked list or secondary structure**.\n",
        "- In extreme cases (many collisions), lookup time **degrades to O(n)**.\n",
        "- However, Python uses **probing and dynamic resizing** to keep lookup times **close to O(1) in practice**.\n",
        "\n",
        "---\n",
        "\n"
      ],
      "metadata": {
        "id": "F3JF4hVrpHXs"
      }
    },
    {
      "cell_type": "markdown",
      "source": [
        "#**Q18->In what situations are lists preferred over dictionaries**\n",
        "#**Ans-.**\n",
        "\n",
        "### **When Are Lists Preferred Over Dictionaries?**  \n",
        "\n",
        "While **dictionaries** are great for key-value lookups, **lists** are preferred in situations where:  \n",
        "\n",
        "---\n",
        "\n",
        "### **1. Ordered Data Matters (Maintaining Sequence)**\n",
        "- **Lists** preserve the **order of elements** (always, since Python 3.7).  \n",
        "- **Dictionaries** store key-value pairs but are typically used for unordered lookups.  \n",
        "\n",
        "**Example: Keeping elements in sequence**  \n",
        "```python\n",
        "fruits = [\"apple\", \"banana\", \"cherry\", \"date\"]\n",
        "print(fruits[1])  # Output: banana (Maintains order)\n",
        "```\n",
        "🔹 **Use lists when order is essential**, such as **processing elements in sequence**.\n",
        "\n",
        "---\n",
        "\n",
        "### **2. When You Need Indexed Access (Positional Lookup)**\n",
        "- Lists allow **index-based access** (`O(1)` for direct indexing).  \n",
        "- Dictionaries require **key lookups** instead.  \n",
        "\n",
        "**Example: Index-based access in a list**  \n",
        "```python\n",
        "names = [\"Alice\", \"Bob\", \"Charlie\"]\n",
        "print(names[0])  # Output: Alice\n",
        "```\n",
        "🔹 **Use lists when you need numeric indexes** rather than key-based access.\n",
        "\n",
        "---\n",
        "\n",
        "### **3. Storing Homogeneous Data (Similar Items)**\n",
        "- Lists are **better for collections of similar objects** (e.g., numbers, names, products).  \n",
        "- Dictionaries work best for **structured data** (e.g., a student’s details).  \n",
        "\n",
        "**Example: List of temperatures**  \n",
        "```python\n",
        "temperatures = [30, 32, 28, 25, 31]  # Simple sequence of data\n",
        "```\n",
        "🔹 **Use lists for storing multiple values of the same type.**\n",
        "\n",
        "---\n",
        "\n",
        "### **4. When Memory Efficiency is Important**\n",
        "- **Lists use less memory** than dictionaries because they **only store values**, whereas dictionaries store **both keys and values** (requiring extra space).  \n",
        "\n",
        "🔹 **Use lists when working with large datasets where memory is a concern.**\n",
        "\n",
        "---\n",
        "\n"
      ],
      "metadata": {
        "id": "h6hxhv8dqFi1"
      }
    },
    {
      "cell_type": "markdown",
      "source": [
        "#**Q19->Why are dictionaries considered unordered, and how does that affect data retrieval**\n",
        "#**Ans->**\n",
        "In Python, dictionaries were traditionally considered **unordered** because they were implemented as **hash tables**. This means:  \n",
        "\n",
        "1. **Keys are stored based on their hash values**, not in the order they were inserted.  \n",
        "2. **Prior to Python 3.7**, dictionaries did not maintain the insertion order.  \n",
        "3. **Since Python 3.7**, dictionaries **preserve insertion order**, but they are still optimized for **fast key lookups, not sequential access**.  \n",
        "\n",
        "---\n",
        "\n",
        "### **How Does This Affect Data Retrieval?**  \n",
        "\n",
        "#### **1. Retrieval Order May Not Be Predictable (Before Python 3.7)**\n",
        "- In Python **versions <3.7**, iterating over a dictionary might return elements in a seemingly random order.  \n",
        "\n",
        "```python\n",
        "# Python <3.7 (Unordered)\n",
        "my_dict = {\"b\": 2, \"a\": 1, \"c\": 3}\n",
        "print(my_dict)  # Output order was unpredictable\n",
        "```\n",
        "\n",
        "#### **2. Key Lookups Are Efficient (O(1) Complexity)**\n",
        "- **Dictionaries prioritize fast lookups (`O(1)`) rather than maintaining order.**\n",
        "- **Lists**, by contrast, require **O(n) lookups** when searching for an element.\n",
        "\n",
        "```python\n",
        "# Fast dictionary lookup\n",
        "my_dict = {\"name\": \"Alice\", \"age\": 25, \"city\": \"New York\"}\n",
        "print(my_dict[\"age\"])  # O(1) lookup\n",
        "```\n",
        "\n",
        "#### **3. Iteration Order Matters for Some Applications**\n",
        "- Since **Python 3.7+, dictionaries maintain insertion order**, making them **predictable** for use cases like:\n",
        "  - JSON serialization  \n",
        "  - Ordered configurations  \n",
        "  - Maintaining historical records  \n",
        "\n",
        "```python\n",
        "# Python 3.7+ (Insertion order preserved)\n",
        "ordered_dict = {\"first\": 1, \"second\": 2, \"third\": 3}\n",
        "for key in ordered_dict:\n",
        "    print(key)  # Output: first, second, third (insertion order)\n",
        "```"
      ],
      "metadata": {
        "id": "gEjxZcfkqkni"
      }
    },
    {
      "cell_type": "markdown",
      "source": [
        "#**Q20-> Explain the difference between a list and a dictionary in terms of data retrieval.**\n",
        "#**Ans-**\n",
        "\n",
        "### **Difference Between a List and a Dictionary in Terms of Data Retrieval**  \n",
        "\n",
        "Lists and dictionaries are both **data structures** in Python, but they differ significantly in **how data is stored and retrieved**.\n",
        "\n",
        "---\n",
        "\n",
        "### **1. Retrieval Method**\n",
        "| Feature | **List** | **Dictionary** |\n",
        "|---------|---------|-------------|\n",
        "| **Access Method** | Uses **index** (`list[index]`) | Uses **key** (`dict[key]`) |\n",
        "| **Lookup Speed** | **O(n)** (linear search) unless indexed | **O(1)** (constant time) on average |\n",
        "| **Order** | Maintains **insertion order** | Maintains **insertion order** (Python 3.7+) but optimized for lookups |\n",
        "| **Best Used For** | **Ordered collections** of similar data | **Key-value pairs** with fast lookups |\n",
        "\n",
        "---\n",
        "\n",
        "### **2. Example of Data Retrieval**\n",
        "#### **📌 Retrieving Data from a List (Index-Based)**\n",
        "Lists are accessed using an **integer index** (`O(1)`) but searching for an element (`in` or `.index()`) takes **O(n)** time.\n",
        "\n",
        "```python\n",
        "my_list = [\"Alice\", \"Bob\", \"Charlie\"]\n",
        "print(my_list[1])  # Output: Bob (O(1) index-based lookup)\n",
        "\n",
        "# Searching for an element (O(n))\n",
        "print(\"Charlie\" in my_list)  # Output: True\n",
        "```\n",
        "\n",
        "#### **📌 Retrieving Data from a Dictionary (Key-Based)**\n",
        "Dictionaries use **keys instead of indices** for access, which provides **O(1) lookup time on average**.\n",
        "\n",
        "```python\n",
        "my_dict = {\"name\": \"Alice\", \"age\": 25, \"city\": \"New York\"}\n",
        "print(my_dict[\"age\"])  # Output: 25 (O(1) lookup)\n",
        "\n",
        "# Searching for a key (O(1))\n",
        "print(\"name\" in my_dict)  # Output: True\n",
        "\n",
        "# Searching for a value (O(n))\n",
        "print(\"Alice\" in my_dict.values())  # Output: True\n",
        "```"
      ],
      "metadata": {
        "id": "1FlWr23ZrJkh"
      }
    },
    {
      "cell_type": "markdown",
      "source": [
        "#**PRACTICAL QUESTIONS**"
      ],
      "metadata": {
        "id": "8WkvbpfPrr8N"
      }
    },
    {
      "cell_type": "code",
      "source": [
        "# Q1->Write a code to create a string with your name and print it.\n",
        "# sol->\n",
        "name=input(\"enter your name \")\n",
        "print(\"My name is \",name)"
      ],
      "metadata": {
        "colab": {
          "base_uri": "https://localhost:8080/"
        },
        "id": "27EMI6vIr2C5",
        "outputId": "74dd34cd-027d-4126-a9c6-6ad8f1869538"
      },
      "execution_count": null,
      "outputs": [
        {
          "output_type": "stream",
          "name": "stdout",
          "text": [
            "enter your name Rudraksh\n",
            "My name is  Rudraksh\n"
          ]
        }
      ]
    },
    {
      "cell_type": "code",
      "source": [
        "# Q2->Write a code to find the length of the string \"Hello World\"?\n",
        "# sol->\n",
        "string=\"Hello World\"\n",
        "print(len(string))"
      ],
      "metadata": {
        "colab": {
          "base_uri": "https://localhost:8080/"
        },
        "id": "feh8gpH2sSnA",
        "outputId": "9f919a74-7f3d-4b3b-b5a0-3c81eecf5487"
      },
      "execution_count": null,
      "outputs": [
        {
          "output_type": "stream",
          "name": "stdout",
          "text": [
            "11\n"
          ]
        }
      ]
    },
    {
      "cell_type": "code",
      "source": [
        "# Q3-> Write a code to slice the first 3 characters from the string \"Python Programming\"?\n",
        "# Sol->\n",
        "m=\"Python Programming\"\n",
        "m[0:3]"
      ],
      "metadata": {
        "colab": {
          "base_uri": "https://localhost:8080/",
          "height": 36
        },
        "id": "BV1aKun1sfFt",
        "outputId": "4542024b-35e8-46fe-e98e-07d312d31f41"
      },
      "execution_count": null,
      "outputs": [
        {
          "output_type": "execute_result",
          "data": {
            "text/plain": [
              "'Pyt'"
            ],
            "application/vnd.google.colaboratory.intrinsic+json": {
              "type": "string"
            }
          },
          "metadata": {},
          "execution_count": 6
        }
      ]
    },
    {
      "cell_type": "code",
      "source": [
        "# Q4->  Write a code to convert the string \"hello\" to uppercase?\n",
        "# Sol->\n",
        "stm=\"hello\"\n",
        "stm.upper()"
      ],
      "metadata": {
        "colab": {
          "base_uri": "https://localhost:8080/",
          "height": 36
        },
        "id": "w5aYMNiNs4ex",
        "outputId": "07b0c456-0c9f-4bcc-dabf-c966a78dc653"
      },
      "execution_count": null,
      "outputs": [
        {
          "output_type": "execute_result",
          "data": {
            "text/plain": [
              "'HELLO'"
            ],
            "application/vnd.google.colaboratory.intrinsic+json": {
              "type": "string"
            }
          },
          "metadata": {},
          "execution_count": 14
        }
      ]
    },
    {
      "cell_type": "code",
      "source": [
        "# Q5->Write a code to replace the word \"apple\" with \"orange\" in the string \"I like apple\"?\n",
        "# Sol->\n",
        "str=\"I like Apple\"\n",
        "str.replace(\"Apple\",\"Orange\")"
      ],
      "metadata": {
        "colab": {
          "base_uri": "https://localhost:8080/",
          "height": 36
        },
        "id": "Qk60zR1QuDPI",
        "outputId": "79b905f7-6948-490d-c133-3dcbfbae03db"
      },
      "execution_count": null,
      "outputs": [
        {
          "output_type": "execute_result",
          "data": {
            "text/plain": [
              "'I like Orange'"
            ],
            "application/vnd.google.colaboratory.intrinsic+json": {
              "type": "string"
            }
          },
          "metadata": {},
          "execution_count": 15
        }
      ]
    },
    {
      "cell_type": "code",
      "source": [
        "# Q6->Write a code to create a list with numbers 1 to 5 and print it.\n",
        "# Sol->\n",
        "lis=[]\n",
        "for i in range(1,6):\n",
        "  lis.append(i)\n",
        "\n",
        "print(lis)"
      ],
      "metadata": {
        "colab": {
          "base_uri": "https://localhost:8080/"
        },
        "id": "kdjpZkTiuWyU",
        "outputId": "7f9a4462-a30e-4c88-83d1-5cbd659f6d22"
      },
      "execution_count": null,
      "outputs": [
        {
          "output_type": "stream",
          "name": "stdout",
          "text": [
            "[1, 2, 3, 4, 5]\n"
          ]
        }
      ]
    },
    {
      "cell_type": "code",
      "source": [
        "# Q7->Write a code to append the number 10 to the list [1, 2, 3, 4].\n",
        "# Sol->\n",
        "li=[1,2,3,4]\n",
        "li.append(10)\n",
        "li"
      ],
      "metadata": {
        "colab": {
          "base_uri": "https://localhost:8080/"
        },
        "id": "Ut38Wowbu-i6",
        "outputId": "86ceb951-64b9-4acf-98c6-c1119d377c47"
      },
      "execution_count": null,
      "outputs": [
        {
          "output_type": "execute_result",
          "data": {
            "text/plain": [
              "[1, 2, 3, 4, 10]"
            ]
          },
          "metadata": {},
          "execution_count": 18
        }
      ]
    },
    {
      "cell_type": "code",
      "source": [
        "# Q8->P Write a code to remove the number 3 from the list [1, 2, 3, 4, 5]?\n",
        "# SOL->\n",
        "li=[1,2,3,4,5]\n",
        "li.remove(3)\n",
        "li"
      ],
      "metadata": {
        "colab": {
          "base_uri": "https://localhost:8080/"
        },
        "id": "bZD1JgOgvMop",
        "outputId": "bdb4b804-78a5-4726-da4d-17c6c39f4fc8"
      },
      "execution_count": null,
      "outputs": [
        {
          "output_type": "execute_result",
          "data": {
            "text/plain": [
              "[1, 2, 4, 5]"
            ]
          },
          "metadata": {},
          "execution_count": 19
        }
      ]
    },
    {
      "cell_type": "code",
      "source": [
        "# Q9->Write a code to access the second element in the list ['a', 'b', 'c', 'd']?\n",
        "# Sol->\n",
        "li=['a','b','c','d']\n",
        "li[1]"
      ],
      "metadata": {
        "colab": {
          "base_uri": "https://localhost:8080/",
          "height": 36
        },
        "id": "8X8II-G5vbTv",
        "outputId": "96f2aa6f-5d0e-4401-af88-322ba03136c2"
      },
      "execution_count": null,
      "outputs": [
        {
          "output_type": "execute_result",
          "data": {
            "text/plain": [
              "'b'"
            ],
            "application/vnd.google.colaboratory.intrinsic+json": {
              "type": "string"
            }
          },
          "metadata": {},
          "execution_count": 20
        }
      ]
    },
    {
      "cell_type": "code",
      "source": [
        "# Q10-> Write a code to reverse the list [10, 20, 30, 40, 50].\n",
        "# Sol->\n",
        "li= [10, 20, 30, 40, 50]\n",
        "li.reverse()\n",
        "li"
      ],
      "metadata": {
        "colab": {
          "base_uri": "https://localhost:8080/"
        },
        "id": "Xb6O14fqvtsh",
        "outputId": "bc352032-a27f-4a26-b440-eb203b7ca64c"
      },
      "execution_count": null,
      "outputs": [
        {
          "output_type": "execute_result",
          "data": {
            "text/plain": [
              "[50, 40, 30, 20, 10]"
            ]
          },
          "metadata": {},
          "execution_count": 22
        }
      ]
    },
    {
      "cell_type": "code",
      "source": [
        "# Q11-> Write a code to create a tuple with the elements 100, 200, 300 and print it.\n",
        "# Sol->\n",
        "tup=(100,200,300)\n",
        "print(tup)"
      ],
      "metadata": {
        "colab": {
          "base_uri": "https://localhost:8080/"
        },
        "id": "-onfVZ3kwCqO",
        "outputId": "6c220d15-9934-41d4-e569-f1f3fc9ad776"
      },
      "execution_count": null,
      "outputs": [
        {
          "output_type": "stream",
          "name": "stdout",
          "text": [
            "(100, 200, 300)\n"
          ]
        }
      ]
    },
    {
      "cell_type": "code",
      "source": [
        "# Q12-> Write a code to access the second-to-last element of the tuple ('red', 'green', 'blue', 'yellow').\n",
        "# Sol->\n",
        "tup=('red', 'green', 'blue', 'yellow')\n",
        "tup[-2]"
      ],
      "metadata": {
        "colab": {
          "base_uri": "https://localhost:8080/",
          "height": 36
        },
        "id": "ioznNdeuwQGV",
        "outputId": "3495d9a3-a4cb-4bca-9d07-9d7f62bd9d65"
      },
      "execution_count": null,
      "outputs": [
        {
          "output_type": "execute_result",
          "data": {
            "text/plain": [
              "'blue'"
            ],
            "application/vnd.google.colaboratory.intrinsic+json": {
              "type": "string"
            }
          },
          "metadata": {},
          "execution_count": 24
        }
      ]
    },
    {
      "cell_type": "code",
      "source": [
        "# Q13->Write a code to find the minimum number in the tuple (10, 20, 5, 15).\n",
        "# Sol->\n",
        "tup=(10, 20, 5, 15)\n",
        "min(tup)"
      ],
      "metadata": {
        "colab": {
          "base_uri": "https://localhost:8080/"
        },
        "id": "2uc0005zwiHY",
        "outputId": "639a2e50-d6c4-44b6-a2ad-40149a2f7373"
      },
      "execution_count": null,
      "outputs": [
        {
          "output_type": "execute_result",
          "data": {
            "text/plain": [
              "5"
            ]
          },
          "metadata": {},
          "execution_count": 25
        }
      ]
    },
    {
      "cell_type": "code",
      "source": [
        "# Q14-> Write a code to find the index of the element \"cat\" in the tuple ('dog', 'cat', 'rabbit').\n",
        "# Sol->\n",
        "pet=('dog', 'cat', 'rabbit')\n",
        "pet.index('cat')"
      ],
      "metadata": {
        "colab": {
          "base_uri": "https://localhost:8080/"
        },
        "id": "dNK_dRh_wyap",
        "outputId": "1eb0d94f-341a-48cc-9324-2509d0d6dfe5"
      },
      "execution_count": null,
      "outputs": [
        {
          "output_type": "execute_result",
          "data": {
            "text/plain": [
              "1"
            ]
          },
          "metadata": {},
          "execution_count": 26
        }
      ]
    },
    {
      "cell_type": "code",
      "source": [
        "# Q15-> Write a code to create a tuple containing three different fruits and check if \"kiwi\" is in it?\n",
        "# Sol->\n",
        "fruits=(\"mango\",\"apple\",\"kiwi\")\n",
        "\"kiwi\" in fruits"
      ],
      "metadata": {
        "colab": {
          "base_uri": "https://localhost:8080/"
        },
        "id": "8cvaT-4nxJfW",
        "outputId": "4664d652-dac4-4daa-8ce5-c03344cf7cef"
      },
      "execution_count": null,
      "outputs": [
        {
          "output_type": "execute_result",
          "data": {
            "text/plain": [
              "True"
            ]
          },
          "metadata": {},
          "execution_count": 27
        }
      ]
    },
    {
      "cell_type": "code",
      "source": [
        "# Q16-> Write a code to create a set with the elements 'a', 'b', 'c' and print it.\n",
        "#  Sol->\n",
        "set1={'a','b','c'}\n",
        "print(set1)"
      ],
      "metadata": {
        "colab": {
          "base_uri": "https://localhost:8080/"
        },
        "id": "Irj15n0wxmUU",
        "outputId": "7c50b39e-a909-4156-977f-f54e45427cbc"
      },
      "execution_count": null,
      "outputs": [
        {
          "output_type": "stream",
          "name": "stdout",
          "text": [
            "{'c', 'a', 'b'}\n"
          ]
        }
      ]
    },
    {
      "cell_type": "code",
      "source": [
        "# Q17->Write a code to clear all elements from the set {1, 2, 3, 4, 5}.\n",
        "# Sol->\n",
        "set1={1,2,3,4,5}\n",
        "set1.clear()\n",
        "set1"
      ],
      "metadata": {
        "colab": {
          "base_uri": "https://localhost:8080/"
        },
        "id": "6gBpj11Px2hy",
        "outputId": "d13226c2-2564-4d3b-bd72-2694b6c21fb3"
      },
      "execution_count": null,
      "outputs": [
        {
          "output_type": "execute_result",
          "data": {
            "text/plain": [
              "set()"
            ]
          },
          "metadata": {},
          "execution_count": 30
        }
      ]
    },
    {
      "cell_type": "code",
      "source": [
        "# Q18-> Write a code to remove the element 4 from the set {1, 2, 3, 4}.\n",
        "# Sol->\n",
        "set1={1,2,3,4}\n",
        "set1.remove(4)\n",
        "set1"
      ],
      "metadata": {
        "colab": {
          "base_uri": "https://localhost:8080/"
        },
        "id": "KtqWTqdUyEP6",
        "outputId": "d605490d-899a-4345-9af0-a6c11be6edab"
      },
      "execution_count": null,
      "outputs": [
        {
          "output_type": "execute_result",
          "data": {
            "text/plain": [
              "{1, 2, 3}"
            ]
          },
          "metadata": {},
          "execution_count": 31
        }
      ]
    },
    {
      "cell_type": "code",
      "source": [
        "# Q19->. Write a code to find the union of two sets {1, 2, 3} and {3, 4, 5}.\n",
        "# Sol->\n",
        "set1={1,2,3}\n",
        "set2={3,4,5}\n",
        "set1| set2"
      ],
      "metadata": {
        "colab": {
          "base_uri": "https://localhost:8080/"
        },
        "id": "_wkOwk3GyUTK",
        "outputId": "eb2a1e35-4b73-4f36-ad8a-17c59cadd3a6"
      },
      "execution_count": null,
      "outputs": [
        {
          "output_type": "execute_result",
          "data": {
            "text/plain": [
              "{1, 2, 3, 4, 5}"
            ]
          },
          "metadata": {},
          "execution_count": 32
        }
      ]
    },
    {
      "cell_type": "code",
      "source": [
        "# Q20->Write a code to find the intersection of two sets {1, 2, 3} and {2, 3, 4}.\n",
        "# Sol->\n",
        "set1={1,2,3}\n",
        "set2={2,3,4}\n",
        "set1&set2"
      ],
      "metadata": {
        "colab": {
          "base_uri": "https://localhost:8080/"
        },
        "id": "EkjJaPEmy_76",
        "outputId": "cac43071-ccbf-47ac-f5f1-bdbae648b18d"
      },
      "execution_count": null,
      "outputs": [
        {
          "output_type": "execute_result",
          "data": {
            "text/plain": [
              "{2, 3}"
            ]
          },
          "metadata": {},
          "execution_count": 33
        }
      ]
    },
    {
      "cell_type": "code",
      "source": [
        "# Q21->Write a code to create a dictionary with the keys \"name\", \"age\", and \"city\", and print it.\n",
        "# Sol->\n",
        "personal_info={\n",
        "    'name':\"Rudraksh\",\n",
        "    'age':20,\n",
        "    'city':\"Kangra(H.P.)\"\n",
        "}\n",
        "print(personal_info)"
      ],
      "metadata": {
        "colab": {
          "base_uri": "https://localhost:8080/"
        },
        "id": "ddfhdRmJzNyk",
        "outputId": "d84339e8-7d0e-4f4a-ebe7-56751158a7fc"
      },
      "execution_count": null,
      "outputs": [
        {
          "output_type": "stream",
          "name": "stdout",
          "text": [
            "{'name': 'Rudraksh', 'age': 20, 'city': 'Kangra(H.P.)'}\n"
          ]
        }
      ]
    },
    {
      "cell_type": "code",
      "source": [
        "# Q22-> Write a code to add a new key-value pair \"country\": \"USA\" to the dictionary {'name': 'John', 'age': 25}.\n",
        "# Sol->\n",
        "info= {'name': 'John', 'age': 25}\n",
        "info['country']='USA'\n",
        "print(info)"
      ],
      "metadata": {
        "colab": {
          "base_uri": "https://localhost:8080/"
        },
        "id": "msY4unL7zmpW",
        "outputId": "a2101715-d298-4176-d53d-a181d55a7ee9"
      },
      "execution_count": null,
      "outputs": [
        {
          "output_type": "stream",
          "name": "stdout",
          "text": [
            "{'name': 'John', 'age': 25, 'country': 'USA'}\n"
          ]
        }
      ]
    },
    {
      "cell_type": "code",
      "source": [
        "# Q23->Write a code to access the value associated with the key \"name\" in the dictionary {'name': 'Alice', 'age': 30}.\n",
        "# Sol->\n",
        "info= {'name': 'Alice', 'age': 30}\n",
        "info['name']"
      ],
      "metadata": {
        "colab": {
          "base_uri": "https://localhost:8080/",
          "height": 36
        },
        "id": "PyhI6a9wz_M9",
        "outputId": "ecfaccc5-063b-4e6a-f173-225a66967aa9"
      },
      "execution_count": null,
      "outputs": [
        {
          "output_type": "execute_result",
          "data": {
            "text/plain": [
              "'Alice'"
            ],
            "application/vnd.google.colaboratory.intrinsic+json": {
              "type": "string"
            }
          },
          "metadata": {},
          "execution_count": 37
        }
      ]
    },
    {
      "cell_type": "code",
      "source": [
        "# Q24->Write a code to remove the key \"age\" from the dictionary {'name': 'Bob', 'age': 22, 'city': 'New York'}.\n",
        "# Sol->\n",
        "dic= {'name': 'Bob', 'age': 22, 'city': 'New York'}\n",
        "dic.pop('age')\n",
        "dic"
      ],
      "metadata": {
        "colab": {
          "base_uri": "https://localhost:8080/"
        },
        "id": "Y1aNhaKn0PQG",
        "outputId": "a0419f8f-cdaa-4684-a43a-c276fec8dc4e"
      },
      "execution_count": null,
      "outputs": [
        {
          "output_type": "execute_result",
          "data": {
            "text/plain": [
              "{'name': 'Bob', 'city': 'New York'}"
            ]
          },
          "metadata": {},
          "execution_count": 42
        }
      ]
    },
    {
      "cell_type": "code",
      "source": [
        "# Q25->Write a code to check if the key \"city\" exists in the dictionary {'name': 'Alice', 'city': 'Paris'}.\n",
        "# Sol->\n",
        "dic= {'name': 'Alice', 'city': 'Paris'}\n",
        "'city' in dic.keys()"
      ],
      "metadata": {
        "colab": {
          "base_uri": "https://localhost:8080/"
        },
        "id": "RsNA428y00Az",
        "outputId": "f345ba2c-fa1c-42c9-ba50-b5c28b4faaaf"
      },
      "execution_count": null,
      "outputs": [
        {
          "output_type": "execute_result",
          "data": {
            "text/plain": [
              "True"
            ]
          },
          "metadata": {},
          "execution_count": 45
        }
      ]
    },
    {
      "cell_type": "code",
      "source": [
        "# Q26->Write a code to create a list, a tuple, and a dictionary, and print them all.\n",
        "# Sol->\n",
        "lis=[1,2,3,4]\n",
        "tup=(1,2,3,4)\n",
        "dic={\n",
        "    'name':\"Rudraksh\",\n",
        "    'age':20,\n",
        "    'city':\"Kangra(H.P.)\"\n",
        "}\n",
        "print(f\"List:{lis}\\nTuple:{tup}\\nDictionary:{dic}\")"
      ],
      "metadata": {
        "colab": {
          "base_uri": "https://localhost:8080/"
        },
        "id": "hFnJn4_T1YwF",
        "outputId": "e4f07237-289a-4217-9e7a-f829eaa8de73"
      },
      "execution_count": null,
      "outputs": [
        {
          "output_type": "stream",
          "name": "stdout",
          "text": [
            "List:[1, 2, 3, 4]\n",
            "Tuple:(1, 2, 3, 4)\n",
            "Dictionary:{'name': 'Rudraksh', 'age': 20, 'city': 'Kangra(H.P.)'}\n"
          ]
        }
      ]
    },
    {
      "cell_type": "code",
      "source": [
        "# Q27-> Write a code to create a list of 5 random numbers between 1 and 100, sort it in ascending order, and print the result(replaced)\n",
        "# Sol->\n",
        "lis=[]\n",
        "import random\n",
        "for i in range(5):\n",
        "  lis.append(random.randint(1,100))\n",
        "print(\"Random Number List is \",lis)\n",
        "# lis.sort()\n",
        "lis=sorted(lis)\n",
        "print(\"Sorted list is \",lis)"
      ],
      "metadata": {
        "colab": {
          "base_uri": "https://localhost:8080/"
        },
        "id": "pAZCHAo-1wCk",
        "outputId": "affdf2e2-6451-4abb-c5a6-49db83c05abd"
      },
      "execution_count": null,
      "outputs": [
        {
          "output_type": "stream",
          "name": "stdout",
          "text": [
            "Random Number List is  [98, 93, 68, 69, 20]\n",
            "Sorted list is  [20, 68, 69, 93, 98]\n"
          ]
        }
      ]
    },
    {
      "cell_type": "code",
      "source": [
        "# Q28-> Write a code to create a list with strings and print the element at the third index.\n",
        "# Sol->\n",
        "lis=['a','b','c','d','e']\n",
        "lis[2]"
      ],
      "metadata": {
        "colab": {
          "base_uri": "https://localhost:8080/",
          "height": 36
        },
        "id": "klPJuqTG3K9G",
        "outputId": "f13b8bc0-8cbf-466e-c067-5c90a89e554d"
      },
      "execution_count": null,
      "outputs": [
        {
          "output_type": "execute_result",
          "data": {
            "text/plain": [
              "'c'"
            ],
            "application/vnd.google.colaboratory.intrinsic+json": {
              "type": "string"
            }
          },
          "metadata": {},
          "execution_count": 52
        }
      ]
    },
    {
      "cell_type": "code",
      "source": [
        "# Q29-> Write a code to combine two dictionaries into one and print the result.\n",
        "# Sol->\n",
        "dic={\n",
        "    'name':\"Rudraksh\",\n",
        "    'age':20,\n",
        "    'city':\"Kangra(H.P.)\"\n",
        "}\n",
        "info= {\"book\":\"borderland\", 'age': 30}\n",
        "dic.update(info)\n",
        "dic"
      ],
      "metadata": {
        "colab": {
          "base_uri": "https://localhost:8080/"
        },
        "id": "efh76z-D3asS",
        "outputId": "20329bfb-cf95-4e5a-a651-375ae831f3b9"
      },
      "execution_count": null,
      "outputs": [
        {
          "output_type": "execute_result",
          "data": {
            "text/plain": [
              "{'name': 'Rudraksh', 'age': 30, 'city': 'Kangra(H.P.)', 'book': 'borderland'}"
            ]
          },
          "metadata": {},
          "execution_count": 54
        }
      ]
    },
    {
      "cell_type": "code",
      "source": [
        "# Q30->. Write a code to convert a list of strings into a set.\n",
        "# Sol->\n",
        "lis=['a','b','c','d','e']\n",
        "set(lis)\n"
      ],
      "metadata": {
        "colab": {
          "base_uri": "https://localhost:8080/"
        },
        "id": "TdC2HhGD32vJ",
        "outputId": "0127e82d-0069-4889-c321-7a6d802b207c"
      },
      "execution_count": null,
      "outputs": [
        {
          "output_type": "execute_result",
          "data": {
            "text/plain": [
              "{'a', 'b', 'c', 'd', 'e'}"
            ]
          },
          "metadata": {},
          "execution_count": 56
        }
      ]
    }
  ]
}